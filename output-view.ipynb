{
 "cells": [
  {
   "cell_type": "code",
   "execution_count": 11,
   "metadata": {},
   "outputs": [],
   "source": [
    "import pandas as pd\n",
    "from matplotlib import pyplot as plt"
   ]
  },
  {
   "cell_type": "code",
   "execution_count": 2,
   "metadata": {},
   "outputs": [],
   "source": [
    "train = pd.read_csv(\"./data/train.csv\")"
   ]
  },
  {
   "cell_type": "code",
   "execution_count": 3,
   "metadata": {},
   "outputs": [],
   "source": [
    "df = pd.read_csv(\"dummy_predict_xlnet.csv\")"
   ]
  },
  {
   "cell_type": "code",
   "execution_count": 4,
   "metadata": {},
   "outputs": [
    {
     "data": {
      "text/plain": [
       "Index(['0', '1', '2', '3', '4', '5'], dtype='object')"
      ]
     },
     "execution_count": 4,
     "metadata": {},
     "output_type": "execute_result"
    }
   ],
   "source": [
    "df.columns"
   ]
  },
  {
   "cell_type": "code",
   "execution_count": 5,
   "metadata": {},
   "outputs": [],
   "source": [
    "label_cols =  ['toxic', 'severe_toxic', 'obscene', 'threat', 'insult', 'identity_hate']\n",
    "s = ['0', '1', '2', '3', '4', '5']"
   ]
  },
  {
   "cell_type": "code",
   "execution_count": 9,
   "metadata": {},
   "outputs": [
    {
     "name": "stdout",
     "output_type": "stream",
     "text": [
      "train length 159571\n"
     ]
    }
   ],
   "source": [
    "print(\"train length {}\".format(len(train)))"
   ]
  },
  {
   "cell_type": "code",
   "execution_count": 17,
   "metadata": {},
   "outputs": [
    {
     "name": "stdout",
     "output_type": "stream",
     "text": [
      "label: toxic, length: 15294, percents: 9.584448302009765\n",
      "label: severe_toxic, length: 1595, percents: 0.9995550569965721\n",
      "label: obscene, length: 8449, percents: 5.2948217407925\n",
      "label: threat, length: 478, percents: 0.2995531769557125\n",
      "label: insult, length: 7877, percents: 4.936360616904074\n",
      "label: identity_hate, length: 1405, percents: 0.8804858025581089\n"
     ]
    }
   ],
   "source": [
    "true_length = []\n",
    "true_props = []\n",
    "for label in label_cols:\n",
    "    one = train[train[label]==1]\n",
    "    print(\"label: {}, length: {}, percents: {}\".format(label, len(one), len(one)/len(train)*100))\n",
    "    true_length.append(len(one))\n",
    "    true_props.append(len(one)/len(train)*100)"
   ]
  },
  {
   "cell_type": "code",
   "execution_count": 18,
   "metadata": {},
   "outputs": [
    {
     "data": {
      "image/png": "[encoded data removed]",
      "text/plain": [
       "<Figure size 432x288 with 1 Axes>"
      ]
     },
     "metadata": {
      "needs_background": "light"
     },
     "output_type": "display_data"
    }
   ],
   "source": [
    "plt.bar(label_cols, true_props)\n",
    "plt.show()"
   ]
  },
  {
   "cell_type": "code",
   "execution_count": 16,
   "metadata": {},
   "outputs": [
    {
     "data": {
      "image/png": "[encoded data removed]",
      "text/plain": [
       "<Figure size 432x288 with 1 Axes>"
      ]
     },
     "metadata": {
      "needs_background": "light"
     },
     "output_type": "display_data"
    }
   ],
   "source": [
    "plt.bar(label_cols, true_length)\n",
    "plt.show()"
   ]
  },
  {
   "cell_type": "code",
   "execution_count": 29,
   "metadata": {},
   "outputs": [
    {
     "data": {
      "text/plain": [
       "153164"
      ]
     },
     "execution_count": 29,
     "metadata": {},
     "output_type": "execute_result"
    }
   ],
   "source": [
    "toxic = pd.read_csv(\"submission_XLNET_toxic_2ep.csv\")\n",
    "len(toxic)"
   ]
  },
  {
   "cell_type": "code",
   "execution_count": 30,
   "metadata": {},
   "outputs": [],
   "source": [
    "toxic = toxic[toxic['toxic']==1]"
   ]
  },
  {
   "cell_type": "code",
   "execution_count": 31,
   "metadata": {},
   "outputs": [
    {
     "data": {
      "text/plain": [
       "11102"
      ]
     },
     "execution_count": 31,
     "metadata": {},
     "output_type": "execute_result"
    }
   ],
   "source": [
    "len(toxic)"
   ]
  },
  {
   "cell_type": "code",
   "execution_count": 34,
   "metadata": {},
   "outputs": [],
   "source": [
    "severe_toxic = pd.read_csv(\"submission_XLNET_severe_toxic_2ep.csv\")\n",
    "s_toxic = severe_toxic[severe_toxic['severe_toxic']==1]"
   ]
  },
  {
   "cell_type": "code",
   "execution_count": 37,
   "metadata": {},
   "outputs": [
    {
     "data": {
      "text/plain": [
       "457"
      ]
     },
     "execution_count": 37,
     "metadata": {},
     "output_type": "execute_result"
    }
   ],
   "source": [
    "len(s_toxic)"
   ]
  },
  {
   "cell_type": "code",
   "execution_count": 41,
   "metadata": {},
   "outputs": [
    {
     "data": {
      "text/plain": [
       "153164"
      ]
     },
     "execution_count": 41,
     "metadata": {},
     "output_type": "execute_result"
    }
   ],
   "source": [
    "transformers = pd.read_csv(\"submission_2020-04-01.csv\")\n",
    "length = len(transformers)\n",
    "length"
   ]
  },
  {
   "cell_type": "code",
   "execution_count": 45,
   "metadata": {},
   "outputs": [
    {
     "name": "stdout",
     "output_type": "stream",
     "text": [
      "label: toxic, length: 35887, percents: 22.489675442279612\n",
      "label: severe_toxic, length: 2601, percents: 1.6299954252339086\n",
      "label: obscene, length: 23215, percents: 14.548382851520639\n",
      "label: threat, length: 581, percents: 0.3641012464670899\n",
      "label: insult, length: 19747, percents: 12.375055617875429\n",
      "label: identity_hate, length: 3641, percents: 2.2817429232128648\n"
     ]
    }
   ],
   "source": [
    "for label in label_cols:\n",
    "    one = transformers[transformers[label]==1]\n",
    "    print(\"label: {}, length: {}, percents: {}\".format(label, len(one), len(one)/len(train)*100))\n",
    "    true_length.append(len(one))\n",
    "    true_props.append(len(one)/len(train)*100)"
   ]
  },
  {
   "cell_type": "code",
   "execution_count": 46,
   "metadata": {},
   "outputs": [
    {
     "name": "stdout",
     "output_type": "stream",
     "text": [
      "label: toxic, length: 11102, percents: 6.957404540925356\n",
      "label: severe_toxic, length: 457, percents: 0.28639289093882975\n",
      "label: obscene, length: 7361, percents: 4.612993589060669\n",
      "label: threat, length: 892, percents: 0.5589988155742586\n",
      "label: insult, length: 4768, percents: 2.9880116061189064\n",
      "label: identity_hate, length: 453, percents: 0.2838861697927568\n"
     ]
    }
   ],
   "source": [
    "for label in label_cols:\n",
    "    df = pd.read_csv(\"submission_XLNET_{}_2ep.csv\".format(label))\n",
    "    one = df[df[label]==1]\n",
    "    print(\"label: {}, length: {}, percents: {}\".format(label, len(one), len(one)/len(train)*100))\n",
    "    true_length.append(len(one))\n",
    "    true_props.append(len(one)/len(train)*100)"
   ]
  },
  {
   "cell_type": "code",
   "execution_count": 51,
   "metadata": {},
   "outputs": [],
   "source": [
    "submit = pd.read_csv(\"./data/sample_submission.csv\")\n",
    "for label in label_cols:\n",
    "    df = pd.read_csv(\"submission_XLNET_{}_2ep.csv\".format(label))\n",
    "    submit[label] = df[label]\n",
    "submit.to_csv(\"output.csv\", index=False)"
   ]
  },
  {
   "cell_type": "code",
   "execution_count": null,
   "metadata": {},
   "outputs": [],
   "source": []
  }
 ],
 "metadata": {
  "kernelspec": {
   "display_name": "Python 3",
   "language": "python",
   "name": "python3"
  },
  "language_info": {
   "codemirror_mode": {
    "name": "ipython",
    "version": 3
   },
   "file_extension": ".py",
   "mimetype": "text/x-python",
   "name": "python",
   "nbconvert_exporter": "python",
   "pygments_lexer": "ipython3",
   "version": "3.6.9"
  }
 },
 "nbformat": 4,
 "nbformat_minor": 2
}
